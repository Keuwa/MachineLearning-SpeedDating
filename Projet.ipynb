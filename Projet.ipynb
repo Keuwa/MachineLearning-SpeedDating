{
 "cells": [
  {
   "cell_type": "markdown",
   "metadata": {
    "collapsed": true
   },
   "source": [
    "Machine learning project - Rémi Ollivier & Vincent Durpoix\n",
    "\n",
    "Utilisation de la donnée de speed dating "
   ]
  },
  {
   "cell_type": "code",
   "execution_count": 324,
   "metadata": {
    "collapsed": true
   },
   "outputs": [],
   "source": [
    "#Import database\n",
    "import pandas as pd\n",
    "\n",
    "df=pd.read_csv(\"SpeedDatingData.csv\",encoding = \"ISO-8859-1\")\n"
   ]
  },
  {
   "cell_type": "code",
   "execution_count": 325,
   "metadata": {
    "collapsed": true
   },
   "outputs": [],
   "source": [
    "#Remove irrelevent data\n",
    "df = df.drop(\"iid\", axis=1)\n",
    "df = df.drop(\"id\", axis=1)\n",
    "df = df.drop(\"partner\", axis=1)\n",
    "\n",
    "\n"
   ]
  },
  {
   "cell_type": "markdown",
   "metadata": {},
   "source": [
    "Essaie 1 : en enlevant toutes les columns ou les data etaient nuls -- > 12 columns pas forcément toutes usefull\n",
    "Monter que c'étais pas préci\n",
    "\n",
    "\n",
    "Essaie 2 : Replace NaN by 0 and remove useless columns manually\n",
    "Plus précis --> affiner les resultats en essayant de changer des variables\n",
    "    \n",
    "\n",
    "Essaie 3 : Essayer avec réseau de neurone\n"
   ]
  },
  {
   "cell_type": "code",
   "execution_count": 326,
   "metadata": {
    "collapsed": true
   },
   "outputs": [],
   "source": [
    "#Prepare DATA\n",
    "df1 = df\n",
    "df2 = df # df2 change data differently not implemented yet\n",
    "#Maybe usefull later mn_sat\n",
    "df1 = df1.drop(\"like\", axis=1)\n",
    "df1 = df1.drop(\"like_o\", axis=1)\n",
    "df1 = df1.drop(\"field\", axis=1)\n",
    "df1 = df1.drop(\"mn_sat\", axis=1)\n",
    "df1 = df1.drop(\"tuition\", axis=1)\n",
    "df1 = df1.drop(\"from\", axis=1)\n",
    "df1 = df1.drop(\"career\", axis=1)\n",
    "df1 = df1.drop(\"zipcode\", axis=1)\n",
    "df1 = df1.drop(\"income\", axis=1)\n",
    "df1 = df1.drop(\"undergra\", axis=1)\n",
    "df1 = df1.drop(\"dec\", axis=1)\n",
    "df1 = df1.drop(\"dec_o\", axis=1)\n",
    "\n",
    "\n",
    "#Remove where columns value = nan\n",
    "#df1 = df1.dropna(axis=1, how='any')\n",
    "#or replace Nan by 0 \n",
    "df1 = df1.fillna(0)\n",
    "\n",
    "\n",
    "\n"
   ]
  },
  {
   "cell_type": "code",
   "execution_count": 327,
   "metadata": {},
   "outputs": [
    {
     "name": "stdout",
     "output_type": "stream",
     "text": [
      "(8378, 180)\n",
      "Number of men :  4194\n",
      "Number of women :  4184\n",
      "Men who match : 690\n",
      "Women who match : 3494\n"
     ]
    }
   ],
   "source": [
    "#Some Stats\n",
    "#Total\n",
    "print(df1.shape)\n",
    "\n",
    "#Repartition home/femme\n",
    "men = df1.loc[df1['gender'] == 1]\n",
    "women = df1.loc[df1['gender'] == 0]\n",
    "print(\"Number of men : \", men.shape[0])\n",
    "print(\"Number of women : \",women.shape[0])\n",
    "\n",
    "#Women/men matchin\n",
    "print(\"Men who match :\",men.loc[df1['match'] == 1].shape[0])\n",
    "print(\"Women who match :\",women.loc[df1['match'] == 0].shape[0])\n",
    "\n"
   ]
  },
  {
   "cell_type": "code",
   "execution_count": 328,
   "metadata": {},
   "outputs": [],
   "source": [
    "#Classifier we will test : \n",
    "from sklearn.tree import DecisionTreeClassifier\n",
    "from sklearn.neural_network import MLPClassifier\n",
    "from sklearn.neighbors import KNeighborsClassifier\n",
    "from sklearn.ensemble import RandomForestClassifier\n",
    "\n",
    "\n",
    "#decisionTreeClf = DecisionTreeClassifier()\n",
    "#multiLayerPerceptronClf = MLPClassifier()\n",
    "#kNeighborsClf = KNeighborsClassifier()\n",
    "#randomForestClassifier = RandomForestClassifier()\n"
   ]
  },
  {
   "cell_type": "code",
   "execution_count": 329,
   "metadata": {},
   "outputs": [],
   "source": [
    "#Data splitting and utils function\n",
    "from sklearn.model_selection import train_test_split\n",
    "import random\n",
    "\n",
    "def accuracy(y_pred,y) : \n",
    "    return (sum(y_pred == y))/len(y)\n",
    "\n",
    "\n",
    "def find_best(clfs):\n",
    "    accuracyRes = 0.\n",
    "    bestClf = None\n",
    "    for clf in clfs:\n",
    "        #try changing data test\n",
    "        clf.fit(x_train,y_train)\n",
    "        y_pred=clf.predict(x_test)\n",
    "        accuracyValue = accuracy(y_pred,y_test)\n",
    "        if accuracyValue > accuracyRes:\n",
    "            accuracyRes = accuracyValue\n",
    "            bestClf = clf\n",
    "    return accuracyRes,bestClf\n",
    "\n",
    "\n",
    "def data_split(x, y, prob):\n",
    "        train,test=[],[]\n",
    "        d=zip(x,y)\n",
    "        for line in d:\n",
    "            if(random.random()<prob):\n",
    "                train.append(line)\n",
    "            else :\n",
    "                test.append(line)\n",
    "        \n",
    "        x_train,y_train=list(zip(*train))\n",
    "        x_test,y_test=list(zip(*test))\n",
    "        return x_train,y_train, x_test,y_test\n",
    "    \n",
    "y = df1[\"match\"].as_matrix()\n",
    "x = df1.drop(\"match\", axis=1).as_matrix()\n",
    "\n",
    "#x_train,y_train, x_test,y_test= train_test_split(x, y, test_size=.5)\n",
    "x_train,y_train, x_test,y_test=data_split(x, y, .5)\n",
    "\n"
   ]
  },
  {
   "cell_type": "code",
   "execution_count": 330,
   "metadata": {},
   "outputs": [
    {
     "name": "stdout",
     "output_type": "stream",
     "text": [
      "0.838709677419\n",
      "DecisionTreeClassifier(class_weight=None, criterion='gini', max_depth=1,\n",
      "            max_features=None, max_leaf_nodes=None,\n",
      "            min_impurity_decrease=0.0, min_impurity_split=None,\n",
      "            min_samples_leaf=1, min_samples_split=2,\n",
      "            min_weight_fraction_leaf=0.0, presort=False, random_state=None,\n",
      "            splitter='best')\n"
     ]
    }
   ],
   "source": [
    "#Classifieur arbre\n",
    "\n",
    "\n",
    "\n",
    "decisionTreeClfs = []\n",
    "\n",
    "for i in range(1,10):\n",
    "    decisionTreeClfs.append(DecisionTreeClassifier(max_depth=i))\n",
    "    #for j in range(2,10):\n",
    "    #    decisionTreeClfs.append(DecisionTreeClassifier(max_depth=i,min_samples_split=j))\n",
    "\n",
    "#Default value for min sample et presort ok changing value dont influence        \n",
    "        \n",
    "accuracyValue,bestDecisionTreeClf = find_best(decisionTreeClfs)\n",
    "\n",
    "\n",
    "\n",
    "print(accuracyValue)\n",
    "\n",
    "print(bestDecisionTreeClf)\n",
    "\n"
   ]
  },
  {
   "cell_type": "code",
   "execution_count": 331,
   "metadata": {
    "collapsed": true
   },
   "outputs": [],
   "source": [
    "from sklearn.tree import export_graphviz\n",
    "from IPython.core.display import Image, display\n",
    "with open(\"tree.dot\", 'w') as f:\n",
    "        export_graphviz(bestDecisionTreeClf, out_file=f,\n",
    "                        feature_names=df1.drop(\"match\", axis=1).columns.values,\n",
    "                        filled=True)"
   ]
  },
  {
   "cell_type": "code",
   "execution_count": 332,
   "metadata": {
    "collapsed": true
   },
   "outputs": [],
   "source": [
    "#Visualiser l'arbre\n",
    "!dot -Tpng tree.dot -o tree.png "
   ]
  },
  {
   "cell_type": "code",
   "execution_count": 333,
   "metadata": {},
   "outputs": [
    {
     "data": {
      "image/png": "[encoded data removed]",
      "text/plain": [
       "<IPython.core.display.Image object>"
      ]
     },
     "metadata": {},
     "output_type": "display_data"
    }
   ],
   "source": [
    "display(Image('tree.png'))"
   ]
  },
  {
   "cell_type": "markdown",
   "metadata": {
    "collapsed": true
   },
   "source": [
    "Neural network\n",
    "\n"
   ]
  },
  {
   "cell_type": "code",
   "execution_count": 334,
   "metadata": {
    "scrolled": true
   },
   "outputs": [
    {
     "name": "stdout",
     "output_type": "stream",
     "text": [
      "0.857385398981\n",
      "MLPClassifier(activation='relu', alpha=0.0001, batch_size='auto', beta_1=0.9,\n",
      "       beta_2=0.999, early_stopping=False, epsilon=1e-08,\n",
      "       hidden_layer_sizes=60, learning_rate='constant',\n",
      "       learning_rate_init=0.001, max_iter=80, momentum=0.9,\n",
      "       nesterovs_momentum=True, power_t=0.5, random_state=None,\n",
      "       shuffle=True, solver='adam', tol=0.0001, validation_fraction=0.1,\n",
      "       verbose=False, warm_start=False)\n"
     ]
    }
   ],
   "source": [
    "\n",
    "multiLayerPerceptronClassifiers = []\n",
    "\n",
    "#for i in range(50,150,10):\n",
    "#    multiLayerPerceptronClassifiers.append(MLPClassifier(max_iter=i))\n",
    "#    for j in range(1,200,10):\n",
    "#        multiLayerPerceptronClassifiers.append(MLPClassifier(max_iter=i,hidden_layer_sizes=j))\n",
    "\n",
    "#  With this test we find :  hidden_layer_sizes=71 ;   max iter 80  we'll make it easier for a faster compilation\n",
    "for i in range(70,90,5):\n",
    "    multiLayerPerceptronClassifiers.append(MLPClassifier(max_iter=i))\n",
    "    for j in range(60,80,5):\n",
    "        multiLayerPerceptronClassifiers.append(MLPClassifier(max_iter=i,hidden_layer_sizes=j))\n",
    "\n",
    "        \n",
    "accuracyValue,bestMLPClf = find_best(multiLayerPerceptronClassifiers)\n",
    "\n",
    "\n",
    "\n",
    "print(accuracyValue)\n",
    "\n",
    "print(bestMLPClf)\n"
   ]
  },
  {
   "cell_type": "markdown",
   "metadata": {},
   "source": [
    "K plus proche voisin"
   ]
  },
  {
   "cell_type": "code",
   "execution_count": 335,
   "metadata": {},
   "outputs": [
    {
     "name": "stdout",
     "output_type": "stream",
     "text": [
      "0.838952219258\n",
      "KNeighborsClassifier(algorithm='ball_tree', leaf_size=30, metric='minkowski',\n",
      "           metric_params=None, n_jobs=1, n_neighbors=31, p=2,\n",
      "           weights='uniform')\n"
     ]
    }
   ],
   "source": [
    "\n",
    "kNeighborsClassifiers = []\n",
    "\n",
    "#for i in range(1,50,5):\n",
    "#    kNeighborsClassifiers.append(KNeighborsClassifier(algorithm=\"ball_tree\",n_neighbors=i))\n",
    "#    kNeighborsClassifiers.append(KNeighborsClassifier(algorithm=\"brute\",n_neighbors=i))\n",
    "#    kNeighborsClassifiers.append(KNeighborsClassifier(algorithm=\"kd_tree\",n_neighbors=i))\n",
    "\n",
    "#  With this test we find :  n_neighbors=26;   algorithm='ball_tree'  we'll make it easier for a faster compilation\n",
    "\n",
    "for i in range(1,50,5):\n",
    "    kNeighborsClassifiers.append(KNeighborsClassifier(algorithm=\"ball_tree\",n_neighbors=i))\n",
    "    kNeighborsClassifiers.append(KNeighborsClassifier(algorithm=\"brute\",n_neighbors=i))\n",
    "    kNeighborsClassifiers.append(KNeighborsClassifier(algorithm=\"kd_tree\",n_neighbors=i))\n",
    "\n",
    "        \n",
    "accuracyValue,bestKNeighborsClf = find_best(kNeighborsClassifiers)\n",
    "\n",
    "\n",
    "\n",
    "print(accuracyValue)\n",
    "\n",
    "print(bestKNeighborsClf)\n",
    "\n",
    "\n",
    "\n"
   ]
  },
  {
   "cell_type": "markdown",
   "metadata": {},
   "source": [
    "Random forest"
   ]
  },
  {
   "cell_type": "code",
   "execution_count": 336,
   "metadata": {},
   "outputs": [
    {
     "name": "stdout",
     "output_type": "stream",
     "text": [
      "0.854959980597\n",
      "RandomForestClassifier(bootstrap=True, class_weight=None, criterion='gini',\n",
      "            max_depth=70, max_features='auto', max_leaf_nodes=None,\n",
      "            min_impurity_decrease=0.0, min_impurity_split=None,\n",
      "            min_samples_leaf=1, min_samples_split=2,\n",
      "            min_weight_fraction_leaf=0.0, n_estimators=25, n_jobs=1,\n",
      "            oob_score=False, random_state=None, verbose=0,\n",
      "            warm_start=False)\n"
     ]
    }
   ],
   "source": [
    "randomForestClassifiers = []\n",
    "\n",
    "#  With this test we find :  n_neighbors=26;   algorithm='ball_tree'  we'll make it easier for a faster compilation\n",
    "\n",
    "#for i in range(1,100,10):\n",
    "#    randomForestClassifiers.append(RandomForestClassifier(max_depth=i))\n",
    "#    for j in range(1,100,10):\n",
    "#        randomForestClassifiers.append(RandomForestClassifier(max_depth=i,n_estimators=j))\n",
    "\n",
    "#  With this test we find :  max_depth=81   n_estimators=21  we'll make it easier for a faster compilation\n",
    "for i in range(70,90,5):\n",
    "    randomForestClassifiers.append(RandomForestClassifier(max_depth=i))\n",
    "    for j in range(10,30,5):\n",
    "        randomForestClassifiers.append(RandomForestClassifier(max_depth=i,n_estimators=j))\n",
    "        \n",
    "accuracyValue,bestRandomForestClf = find_best(randomForestClassifiers)\n",
    "\n",
    "\n",
    "\n",
    "print(accuracyValue)\n",
    "\n",
    "print(bestRandomForestClf)\n",
    "\n"
   ]
  },
  {
   "cell_type": "code",
   "execution_count": 337,
   "metadata": {},
   "outputs": [
    {
     "name": "stdout",
     "output_type": "stream",
     "text": [
      "0.853989813243\n",
      "RandomForestClassifier(bootstrap=True, class_weight=None, criterion='gini',\n",
      "            max_depth=70, max_features='auto', max_leaf_nodes=None,\n",
      "            min_impurity_decrease=0.0, min_impurity_split=None,\n",
      "            min_samples_leaf=1, min_samples_split=2,\n",
      "            min_weight_fraction_leaf=0.0, n_estimators=25, n_jobs=1,\n",
      "            oob_score=False, random_state=None, verbose=0,\n",
      "            warm_start=False)\n"
     ]
    }
   ],
   "source": [
    "overallClassifier = [bestRandomForestClf,bestKNeighborsClf,bestMLPClf,bestDecisionTreeClf]\n",
    "accuracyValue,bestOverall = find_best(overallClassifier)\n",
    "\n",
    "print(accuracyValue)\n",
    "\n",
    "print(bestOverall)\n",
    "\n",
    "\n",
    "#Random forest is the best"
   ]
  },
  {
   "cell_type": "code",
   "execution_count": 338,
   "metadata": {},
   "outputs": [],
   "source": [
    "import matplotlib.pyplot as plt\n",
    "from matplotlib.colors import ListedColormap\n"
   ]
  },
  {
   "cell_type": "code",
   "execution_count": null,
   "metadata": {
    "collapsed": true
   },
   "outputs": [],
   "source": []
  }
 ],
 "metadata": {
  "kernelspec": {
   "display_name": "Python 3",
   "language": "python",
   "name": "python3"
  },
  "language_info": {
   "codemirror_mode": {
    "name": "ipython",
    "version": 3
   },
   "file_extension": ".py",
   "mimetype": "text/x-python",
   "name": "python",
   "nbconvert_exporter": "python",
   "pygments_lexer": "ipython3",
   "version": "3.6.1"
  }
 },
 "nbformat": 4,
 "nbformat_minor": 2
}
