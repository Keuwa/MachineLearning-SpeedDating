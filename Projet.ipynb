{
 "cells": [
  {
   "cell_type": "markdown",
   "metadata": {
    "collapsed": true
   },
   "source": [
    "Machine learning project - Rémi Ollivier & Vincent Durpoix\n",
    "\n",
    "Utilisation de la donnée de speed dating "
   ]
  },
  {
   "cell_type": "code",
   "execution_count": 24,
   "metadata": {
    "collapsed": true
   },
   "outputs": [],
   "source": [
    "#Import database\n",
    "import pandas as pd\n",
    "\n",
    "df=pd.read_csv(\"SpeedDatingData.csv\",encoding = \"ISO-8859-1\")\n"
   ]
  },
  {
   "cell_type": "code",
   "execution_count": 25,
   "metadata": {
    "collapsed": true
   },
   "outputs": [],
   "source": [
    "#Remove irrelevent data\n",
    "df = df.drop(\"iid\", axis=1)\n",
    "df = df.drop(\"id\", axis=1)\n",
    "df = df.drop(\"partner\", axis=1)\n",
    "\n",
    "\n"
   ]
  },
  {
   "cell_type": "markdown",
   "metadata": {},
   "source": [
    "Essaie 1 : en enlevant toutes les columns ou les data etaient nuls -- > 12 columns pas forcément toutes usefull\n",
    "Monter que c'étais pas préci\n",
    "\n",
    "\n",
    "Essaie 2 : Replace NaN by 0 and remove useless columns manually\n",
    "Plus précis --> affiner les resultats en essayant de changer des variables\n",
    "    \n",
    "\n",
    "Essaie 3 : Essayer avec réseau de neurone\n"
   ]
  },
  {
   "cell_type": "code",
   "execution_count": null,
   "metadata": {
    "collapsed": true
   },
   "outputs": [],
   "source": []
  },
  {
   "cell_type": "code",
   "execution_count": 26,
   "metadata": {},
   "outputs": [
    {
     "name": "stdout",
     "output_type": "stream",
     "text": [
      "(8378, 180)\n",
      "Number of men :  4194\n",
      "Number of women :  4184\n",
      "Men who match : 690\n",
      "Women who match : 3494\n"
     ]
    }
   ],
   "source": [
    "df1 = df\n",
    "\n",
    "#Maybe usefull later mn_sat\n",
    "df1 = df1.drop(\"like\", axis=1)\n",
    "df1 = df1.drop(\"like_o\", axis=1)\n",
    "df1 = df1.drop(\"field\", axis=1)\n",
    "df1 = df1.drop(\"mn_sat\", axis=1)\n",
    "df1 = df1.drop(\"tuition\", axis=1)\n",
    "df1 = df1.drop(\"from\", axis=1)\n",
    "df1 = df1.drop(\"career\", axis=1)\n",
    "df1 = df1.drop(\"zipcode\", axis=1)\n",
    "df1 = df1.drop(\"income\", axis=1)\n",
    "df1 = df1.drop(\"undergra\", axis=1)\n",
    "df1 = df1.drop(\"dec\", axis=1)\n",
    "df1 = df1.drop(\"dec_o\", axis=1)\n",
    "\n",
    "\n",
    "#Remove where columns value = nan\n",
    "#df1 = df1.dropna(axis=1, how='any')\n",
    "#or replace Nan by 0 \n",
    "df1 = df1.fillna(0)\n",
    "\n",
    "\n",
    "\n",
    "#Some Stats\n",
    "#Total\n",
    "print(df1.shape)\n",
    "\n",
    "#Repartition home/femme\n",
    "men = df1.loc[df1['gender'] == 1]\n",
    "women = df1.loc[df1['gender'] == 0]\n",
    "print(\"Number of men : \", men.shape[0])\n",
    "print(\"Number of women : \",women.shape[0])\n",
    "\n",
    "#Women/men matchin\n",
    "print(\"Men who match :\",men.loc[df1['match'] == 1].shape[0])\n",
    "print(\"Women who match :\",women.loc[df1['match'] == 0].shape[0])\n",
    "\n"
   ]
  },
  {
   "cell_type": "code",
   "execution_count": 28,
   "metadata": {},
   "outputs": [
    {
     "name": "stdout",
     "output_type": "stream",
     "text": [
      "0.790664443915\n",
      "DecisionTreeClassifier(class_weight=None, criterion='gini', max_depth=None,\n",
      "            max_features=None, max_leaf_nodes=None,\n",
      "            min_impurity_decrease=0.0, min_impurity_split=None,\n",
      "            min_samples_leaf=1, min_samples_split=2,\n",
      "            min_weight_fraction_leaf=0.0, presort=False, random_state=None,\n",
      "            splitter='best')\n"
     ]
    }
   ],
   "source": [
    "#Classifieur arbre\n",
    "from sklearn.tree import DecisionTreeClassifier\n",
    "import random\n",
    "from sklearn.datasets import load_iris\n",
    "iris = load_iris()\n",
    "\n",
    "def accuracy(y_pred,y) : \n",
    "    return (sum(y_pred == y))/len(y)\n",
    "\n",
    "def data_split(x, y, prob):\n",
    "        train,test=[],[]\n",
    "        d=zip(x,y)\n",
    "        for line in d:\n",
    "            if(random.random()<prob):\n",
    "                train.append(line)\n",
    "            else :\n",
    "                test.append(line)\n",
    "        \n",
    "        x_train,y_train=list(zip(*train))\n",
    "        x_test,y_test=list(zip(*test))\n",
    "        return x_train,y_train, x_test,y_test\n",
    "\n",
    "#x=iris.data\n",
    "#y=iris.target        \n",
    "\n",
    "#print(x)\n",
    "#print(y)\n",
    "\n",
    "#x_train,y_train, x_test,y_test=data_split(x, y, .5)\n",
    "#print(y_train,x_train)\n",
    "#clf = DecisionTreeClassifier().fit(x_train,y_train)\n",
    "#y_pred=clf.predict(x_test)\n",
    "#print(accuracy(y_pred,y_test))\n",
    "\n",
    "y = df1[\"match\"].as_matrix()\n",
    "x = df1.drop(\"match\", axis=1).as_matrix()\n",
    "\n",
    "\n",
    "x_train,y_train, x_test,y_test=data_split(x, y, .5)\n",
    "clf = DecisionTreeClassifier().fit(x_train,y_train)\n",
    "#clf = MLPClassifier(solver='lbfgs', alpha=1e-5,hidden_layer_sizes=(5, 2), random_state=1).fit(x_train,y_train)\n",
    "\n",
    "y_pred=clf.predict(x_test)\n",
    "\n",
    "print(accuracy(y_pred,y_test))\n",
    "\n",
    "print(clf)\n",
    "\n"
   ]
  },
  {
   "cell_type": "code",
   "execution_count": null,
   "metadata": {
    "collapsed": true
   },
   "outputs": [],
   "source": [
    "from sklearn.tree import export_graphviz\n",
    "from IPython.core.display import Image, display\n",
    "with open(\"tree.dot\", 'w') as f:\n",
    "        export_graphviz(clf, out_file=f,\n",
    "                        feature_names=df1.drop(\"match\", axis=1).columns.values,\n",
    "                        filled=True)"
   ]
  },
  {
   "cell_type": "code",
   "execution_count": null,
   "metadata": {
    "collapsed": true
   },
   "outputs": [],
   "source": [
    "#Visualiser l'arbre\n",
    "!dot -Tpng tree.dot -o tree.png "
   ]
  },
  {
   "cell_type": "code",
   "execution_count": null,
   "metadata": {},
   "outputs": [],
   "source": [
    "display(Image('tree.png'))"
   ]
  },
  {
   "cell_type": "code",
   "execution_count": null,
   "metadata": {
    "collapsed": true
   },
   "outputs": [],
   "source": []
  }
 ],
 "metadata": {
  "kernelspec": {
   "display_name": "Python 3",
   "language": "python",
   "name": "python3"
  },
  "language_info": {
   "codemirror_mode": {
    "name": "ipython",
    "version": 3
   },
   "file_extension": ".py",
   "mimetype": "text/x-python",
   "name": "python",
   "nbconvert_exporter": "python",
   "pygments_lexer": "ipython3",
   "version": "3.6.1"
  }
 },
 "nbformat": 4,
 "nbformat_minor": 2
}
